{
 "cells": [
  {
   "cell_type": "code",
   "execution_count": 1,
   "id": "3f07649d",
   "metadata": {},
   "outputs": [],
   "source": [
    "from pymongo import MongoClient\n",
    "from pprint import pprint"
   ]
  },
  {
   "cell_type": "code",
   "execution_count": 22,
   "id": "80b97ee7",
   "metadata": {},
   "outputs": [
    {
     "name": "stdout",
     "output_type": "stream",
     "text": [
      "Connected to MongoDB. Databases:\n",
      "['admin', 'config', 'ycsb_sharded']\n"
     ]
    }
   ],
   "source": [
    "# Replace with your mongos address and authentication if needed\n",
    "mongos_uri = \"mongodb://192.168.178.168:32017\"\n",
    "\n",
    "# Connect to the mongos router\n",
    "client = MongoClient(mongos_uri)\n",
    "\n",
    "# Test connection by listing databases\n",
    "try:\n",
    "    print(\"Connected to MongoDB. Databases:\")\n",
    "    pprint(client.list_database_names())\n",
    "except Exception as e:\n",
    "    print(\"Connection failed:\", e)\n"
   ]
  },
  {
   "cell_type": "code",
   "execution_count": 30,
   "id": "f84e389d",
   "metadata": {},
   "outputs": [
    {
     "name": "stdout",
     "output_type": "stream",
     "text": [
      "📦 Current shards in the cluster:\n",
      " - shard1: shard1/mongodb-shard1-0.mongodb-shard1.default.svc.cluster.local:27018\n",
      " - shard2: shard2/mongodb-shard2-0.mongodb-shard2.default.svc.cluster.local:27018\n",
      " - shard3: shard3/mongodb-shard3-0.mongodb-shard3.default.svc.cluster.local:27018\n",
      " - shard4: shard4/mongodb-shard4-0.mongodb-shard4.default.svc.cluster.local:27018\n"
     ]
    }
   ],
   "source": [
    "def list_shards(mongos_client: MongoClient):\n",
    "    \"\"\"\n",
    "    Lists all current shards in the MongoDB sharded cluster.\n",
    "    \n",
    "    :param mongos_client: The MongoClient connected to mongos\n",
    "    \"\"\"\n",
    "    try:\n",
    "        result = mongos_client.admin.command(\"listShards\")\n",
    "        print(\"📦 Current shards in the cluster:\")\n",
    "        for shard in result[\"shards\"]:\n",
    "            print(f\" - {shard['_id']}: {shard['host']}\")\n",
    "    except Exception as e:\n",
    "        print(f\"❌ Failed to list shards: {e}\")\n",
    "\n",
    "# List current shards\n",
    "list_shards(client)"
   ]
  },
  {
   "cell_type": "code",
   "execution_count": 57,
   "id": "f773e424",
   "metadata": {},
   "outputs": [],
   "source": [
    "def remove_shard(mongos_client: MongoClient, shard_id: int):\n",
    "    \"\"\"\n",
    "    Initiates or continues removal of a shard from the MongoDB cluster.\n",
    "    This function executes the `removeShard` command only once, allowing\n",
    "    external control over when to reissue it.\n",
    "\n",
    "    :param mongos_client: The MongoClient connected to mongos\n",
    "    :param shard_id: Numeric string like '3' (for shard3)\n",
    "    \"\"\"\n",
    "    shard_name = f\"shard{shard_id}\"\n",
    "\n",
    "    try:\n",
    "        res = mongos_client.admin.command(\"removeShard\", shard_name)\n",
    "        state = res[\"state\"]\n",
    "        print(f\"📦 removeShard called on: {shard_name} (state: {state})\")\n",
    "        pprint(res)\n",
    "    except Exception as e:\n",
    "        print(f\"❌ Failed to remove shard {shard_name}: {e}\")\n",
    "\n",
    "\n",
    "def add_shard(mongos_client: MongoClient, shard_id: int):\n",
    "    \"\"\"\n",
    "    Adds a shard to the MongoDB cluster. Constructs shard URI from the shard ID.\n",
    "    \n",
    "    :param mongos_client: The MongoClient connected to mongos\n",
    "    :param shard_id: Numeric string like '3' (for shard3)\n",
    "    \"\"\"\n",
    "    shard_name = f\"shard{shard_id}\"\n",
    "    host = f\"mongodb-shard{shard_id}-0.mongodb-shard{shard_id}.default.svc.cluster.local:27018\"\n",
    "    shard_uri = f\"{shard_name}/{host}\"\n",
    "\n",
    "    try:\n",
    "        result = mongos_client.admin.command(\"addShard\", shard_uri)\n",
    "        print(f\"✅ Shard added: {shard_uri}\")\n",
    "        pprint(result)\n",
    "    except Exception as e:\n",
    "        print(f\"❌ Failed to add shard {shard_uri}: {e}\")\n",
    "\n",
    "\n",
    "def reshard_collection(mongos_client: MongoClient, db_name=\"ycsb_sharded\", coll_name=\"usertable\", chunks=40):\n",
    "    \"\"\"\n",
    "    Initiates a reshardCollection operation on the given collection with:\n",
    "    - forceRedistribution: true\n",
    "    - numInitialChunks: 40\n",
    "    - shardKey: { country: \"hashed\" }\n",
    "\n",
    "    :param mongos_client: MongoClient connected to mongos\n",
    "    :param db_name: Name of the database (e.g., \"ycsb_sharded\")\n",
    "    :param coll_name: Name of the collection (e.g., \"usertable\")\n",
    "    \"\"\"\n",
    "    try:\n",
    "        namespace = f\"{db_name}.{coll_name}\"\n",
    "        cmd = {\n",
    "            \"reshardCollection\": namespace,\n",
    "            \"key\": { \"country\": \"hashed\" },\n",
    "            \"numInitialChunks\": chunks,\n",
    "            \"forceRedistribution\": True\n",
    "        }\n",
    "        print(f\"✅ Resharding initiated for {namespace} with {chunks} chunks\")\n",
    "        result = mongos_client.admin.command(cmd)\n",
    "        from pprint import pprint\n",
    "        pprint(result)\n",
    "\n",
    "    except Exception as e:\n",
    "        print(f\"❌ Failed to reshard {namespace}: \\n{e}\")\n",
    "\n",
    "\n",
    "import hashlib\n",
    "from bson.int64 import Int64\n",
    "\n",
    "def split_hashed_chunks(mongos_client: MongoClient, db_name=\"ycsb_sharded\", coll_name=\"usertable\", num_chunks=40):\n",
    "    \"\"\"\n",
    "    Splits a collection sharded on a hashed key into `num_chunks` chunks\n",
    "    using evenly distributed hashed key space split points.\n",
    "\n",
    "    :param mongos_client: MongoClient connected to mongos\n",
    "    :param db_name: Name of the database\n",
    "    :param coll_name: Name of the collection\n",
    "    :param num_chunks: Number of chunks to split into (default: 40)\n",
    "    \"\"\"\n",
    "    try:\n",
    "        print(f\"🔧 Splitting {db_name}.{coll_name} into {num_chunks} chunks on hashed 'country'...\")\n",
    "\n",
    "        ns = f\"{db_name}.{coll_name}\"\n",
    "        min_hash = -2**63\n",
    "        max_hash = 2**63\n",
    "\n",
    "        step = (max_hash - min_hash) // num_chunks\n",
    "        split_points = [Int64(min_hash + i * step) for i in range(1, num_chunks)]\n",
    "\n",
    "        for i, split_point in enumerate(split_points):\n",
    "            cmd = {\n",
    "                \"split\": ns,\n",
    "                \"middle\": { \"country\": split_point }\n",
    "            }\n",
    "            res = mongos_client.admin.command(cmd)\n",
    "            print(f\"✅ Split {i+1}/{num_chunks - 1} at hashed value {split_point}\")\n",
    "\n",
    "        print(f\"🎉 Done splitting into {num_chunks} chunks.\")\n",
    "\n",
    "    except Exception as e:\n",
    "        print(f\"❌ Failed during split: {e}\")\n"
   ]
  },
  {
   "cell_type": "code",
   "execution_count": 29,
   "id": "ddd95680",
   "metadata": {},
   "outputs": [
    {
     "name": "stdout",
     "output_type": "stream",
     "text": [
      "✅ Shard added: shard4/mongodb-shard4-0.mongodb-shard4.default.svc.cluster.local:27018\n",
      "{'$clusterTime': {'clusterTime': Timestamp(1747061550, 18),\n",
      "                  'signature': {'hash': b'\\x00\\x00\\x00\\x00\\x00\\x00\\x00\\x00'\n",
      "                                        b'\\x00\\x00\\x00\\x00\\x00\\x00\\x00\\x00'\n",
      "                                        b'\\x00\\x00\\x00\\x00',\n",
      "                                'keyId': 0}},\n",
      " 'ok': 1.0,\n",
      " 'operationTime': Timestamp(1747061550, 18),\n",
      " 'shardAdded': 'shard4'}\n"
     ]
    }
   ],
   "source": [
    "add_shard(client, 4)"
   ]
  },
  {
   "cell_type": "code",
   "execution_count": 58,
   "id": "66d64e5c",
   "metadata": {},
   "outputs": [
    {
     "name": "stdout",
     "output_type": "stream",
     "text": [
      "📦 removeShard called on: shard4 (state: started)\n",
      "{'$clusterTime': {'clusterTime': Timestamp(1747063790, 3),\n",
      "                  'signature': {'hash': b'\\x00\\x00\\x00\\x00\\x00\\x00\\x00\\x00'\n",
      "                                        b'\\x00\\x00\\x00\\x00\\x00\\x00\\x00\\x00'\n",
      "                                        b'\\x00\\x00\\x00\\x00',\n",
      "                                'keyId': 0}},\n",
      " 'dbsToMove': [],\n",
      " 'msg': 'draining started successfully',\n",
      " 'note': 'you need to drop or movePrimary these databases',\n",
      " 'ok': 1.0,\n",
      " 'operationTime': Timestamp(1747063790, 3),\n",
      " 'shard': 'shard4',\n",
      " 'state': 'started'}\n"
     ]
    }
   ],
   "source": [
    "remove_shard(client, 4)"
   ]
  },
  {
   "cell_type": "code",
   "execution_count": 61,
   "id": "e366b822",
   "metadata": {},
   "outputs": [
    {
     "name": "stdout",
     "output_type": "stream",
     "text": [
      "✅ Resharding initiated for ycsb_sharded.usertable with 26 chunks\n",
      "{'$clusterTime': {'clusterTime': Timestamp(1747064881, 81),\n",
      "                  'signature': {'hash': b'\\x00\\x00\\x00\\x00\\x00\\x00\\x00\\x00'\n",
      "                                        b'\\x00\\x00\\x00\\x00\\x00\\x00\\x00\\x00'\n",
      "                                        b'\\x00\\x00\\x00\\x00',\n",
      "                                'keyId': 0}},\n",
      " 'ok': 1.0,\n",
      " 'operationTime': Timestamp(1747064881, 81)}\n"
     ]
    }
   ],
   "source": [
    "reshard_collection(client, chunks=26)"
   ]
  },
  {
   "cell_type": "code",
   "execution_count": 45,
   "id": "f1054e95",
   "metadata": {},
   "outputs": [
    {
     "name": "stdout",
     "output_type": "stream",
     "text": [
      "🔧 Splitting ycsb_sharded.usertable into 40 chunks on hashed 'country'...\n",
      "✅ Split 1/39 at hashed value -8762203435012037018\n",
      "✅ Split 2/39 at hashed value -8301034833169298228\n",
      "✅ Split 3/39 at hashed value -7839866231326559438\n",
      "✅ Split 4/39 at hashed value -7378697629483820648\n",
      "✅ Split 5/39 at hashed value -6917529027641081858\n",
      "✅ Split 6/39 at hashed value -6456360425798343068\n",
      "✅ Split 7/39 at hashed value -5995191823955604278\n",
      "✅ Split 8/39 at hashed value -5534023222112865488\n",
      "✅ Split 9/39 at hashed value -5072854620270126698\n",
      "✅ Split 10/39 at hashed value -4611686018427387908\n",
      "✅ Split 11/39 at hashed value -4150517416584649118\n",
      "✅ Split 12/39 at hashed value -3689348814741910328\n",
      "✅ Split 13/39 at hashed value -3228180212899171538\n",
      "✅ Split 14/39 at hashed value -2767011611056432748\n",
      "✅ Split 15/39 at hashed value -2305843009213693958\n",
      "✅ Split 16/39 at hashed value -1844674407370955168\n",
      "✅ Split 17/39 at hashed value -1383505805528216378\n",
      "✅ Split 18/39 at hashed value -922337203685477588\n",
      "✅ Split 19/39 at hashed value -461168601842738798\n",
      "✅ Split 20/39 at hashed value -8\n",
      "✅ Split 21/39 at hashed value 461168601842738782\n",
      "✅ Split 22/39 at hashed value 922337203685477572\n",
      "✅ Split 23/39 at hashed value 1383505805528216362\n",
      "✅ Split 24/39 at hashed value 1844674407370955152\n",
      "✅ Split 25/39 at hashed value 2305843009213693942\n",
      "✅ Split 26/39 at hashed value 2767011611056432732\n",
      "✅ Split 27/39 at hashed value 3228180212899171522\n",
      "✅ Split 28/39 at hashed value 3689348814741910312\n",
      "✅ Split 29/39 at hashed value 4150517416584649102\n",
      "✅ Split 30/39 at hashed value 4611686018427387892\n",
      "✅ Split 31/39 at hashed value 5072854620270126682\n",
      "✅ Split 32/39 at hashed value 5534023222112865472\n",
      "✅ Split 33/39 at hashed value 5995191823955604262\n",
      "✅ Split 34/39 at hashed value 6456360425798343052\n",
      "✅ Split 35/39 at hashed value 6917529027641081842\n",
      "✅ Split 36/39 at hashed value 7378697629483820632\n",
      "✅ Split 37/39 at hashed value 7839866231326559422\n",
      "✅ Split 38/39 at hashed value 8301034833169298212\n",
      "✅ Split 39/39 at hashed value 8762203435012037002\n",
      "🎉 Done splitting into 40 chunks.\n"
     ]
    }
   ],
   "source": [
    "split_hashed_chunks(client, num_chunks=40)"
   ]
  }
 ],
 "metadata": {
  "kernelspec": {
   "display_name": ".venv",
   "language": "python",
   "name": "python3"
  },
  "language_info": {
   "codemirror_mode": {
    "name": "ipython",
    "version": 3
   },
   "file_extension": ".py",
   "mimetype": "text/x-python",
   "name": "python",
   "nbconvert_exporter": "python",
   "pygments_lexer": "ipython3",
   "version": "3.13.3"
  }
 },
 "nbformat": 4,
 "nbformat_minor": 5
}
