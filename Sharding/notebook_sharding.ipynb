{
 "cells": [
  {
   "cell_type": "code",
   "execution_count": 1,
   "id": "3f07649d",
   "metadata": {},
   "outputs": [],
   "source": [
    "from pymongo import MongoClient\n",
    "from kubernetes import client, config\n",
    "from pprint import pprint\n",
    "from kubernetes.client.rest import ApiException"
   ]
  },
  {
   "cell_type": "code",
   "execution_count": 2,
   "id": "d96b76ac",
   "metadata": {},
   "outputs": [],
   "source": [
    "MONGO_HOST = '192.168.178.168'\n",
    "MONGO_PORT = 32017\n",
    "NAMESPACE = 'default'\n",
    "K8S_SHARDS = 0\n",
    "\n",
    "\n",
    "# Load local kubeconfig (e.g., ~/.kube/config)\n",
    "config.load_kube_config()\n",
    "\n",
    "# Create API client for core Kubernetes resources\n",
    "apps_V1 = client.AppsV1Api()\n",
    "core_V1 = client.CoreV1Api()"
   ]
  },
  {
   "cell_type": "code",
   "execution_count": 3,
   "id": "85e2b65b",
   "metadata": {},
   "outputs": [
    {
     "name": "stdout",
     "output_type": "stream",
     "text": [
      "📋 Listing all pods and their statuses:\n",
      "\n",
      " - mongodb-configsvr-0: Running\n",
      " - mongodb-mongos-6b769fd847-nx27h: Running\n",
      " - mongodb-mongos-6b769fd847-r2zq7: Running\n",
      " - mongodb-shard1-0: Running\n",
      " - mongodb-shard2-0: Running\n",
      "\n",
      " Currently there are 2 shards in k8s\n"
     ]
    }
   ],
   "source": [
    "def connect_to_kubernetes():\n",
    "    global K8S_SHARDS\n",
    "    K8S_SHARDS = 0\n",
    "    try:\n",
    "        print(\"📋 Listing all pods and their statuses:\\n\")\n",
    "\n",
    "        pods = core_V1.list_namespaced_pod(namespace=NAMESPACE,watch=False)\n",
    "        for pod in pods.items:\n",
    "            name = pod.metadata.name\n",
    "            status = pod.status.phase\n",
    "            if \"mongodb-shard\" in name:\n",
    "                K8S_SHARDS += 1\n",
    "            print(f\" - {name}: {status}\")\n",
    "        print(f\"\\n Currently there are {K8S_SHARDS} shards in k8s\")\n",
    "\n",
    "    except ApiException as e:\n",
    "        print(f\"❌ Kubernetes API error: {e}\")\n",
    "    except Exception as e:\n",
    "        print(f\"❌ Failed to connect to Kubernetes: {e}\")\n",
    "\n",
    "connect_to_kubernetes()"
   ]
  },
  {
   "cell_type": "code",
   "execution_count": 4,
   "id": "80b97ee7",
   "metadata": {},
   "outputs": [
    {
     "name": "stdout",
     "output_type": "stream",
     "text": [
      "Connected to MongoDB. Databases:\n",
      "['admin', 'config', 'ycsb_sharded']\n"
     ]
    }
   ],
   "source": [
    "# Replace with your mongos address and authentication if needed\n",
    "mongos_uri = \"mongodb://192.168.178.168:32017\"\n",
    "\n",
    "MONGO_SHARDS = 0\n",
    "\n",
    "# Connect to the mongos router\n",
    "mongoClient = MongoClient(mongos_uri)\n",
    "\n",
    "# Test connection by listing databases\n",
    "try:\n",
    "    print(\"Connected to MongoDB. Databases:\")\n",
    "    pprint(mongoClient.list_database_names())\n",
    "except Exception as e:\n",
    "    print(\"Connection failed:\", e)\n"
   ]
  },
  {
   "cell_type": "code",
   "execution_count": 5,
   "id": "f84e389d",
   "metadata": {},
   "outputs": [
    {
     "name": "stdout",
     "output_type": "stream",
     "text": [
      "📦 Current shards in the cluster: 2\n",
      " - shard1: shard1/mongodb-shard1-0.mongodb-shard1.default.svc.cluster.local:27018\n",
      " - shard2: shard2/mongodb-shard2-0.mongodb-shard2.default.svc.cluster.local:27018\n"
     ]
    }
   ],
   "source": [
    "def list_shards(mongos_client: MongoClient):\n",
    "    global MONGO_SHARDS\n",
    "    \"\"\"\n",
    "    Lists all current shards in the MongoDB sharded cluster.\n",
    "    \n",
    "    :param mongos_client: The MongoClient connected to mongos\n",
    "    \"\"\"\n",
    "    try:\n",
    "        result = mongos_client.admin.command(\"listShards\")\n",
    "        MONGO_SHARDS = len(result['shards'])\n",
    "        print(f\"📦 Current shards in the cluster: {MONGO_SHARDS}\")\n",
    "        for shard in result[\"shards\"]:\n",
    "            print(f\" - {shard['_id']}: {shard['host']}\")\n",
    "    except Exception as e:\n",
    "        print(f\"❌ Failed to list shards: {e}\")\n",
    "\n",
    "# List current shards\n",
    "list_shards(mongoClient)"
   ]
  },
  {
   "cell_type": "code",
   "execution_count": null,
   "id": "f773e424",
   "metadata": {},
   "outputs": [],
   "source": [
    "def remove_shard(mongos_client: MongoClient, shard_id: int):\n",
    "    \"\"\"\n",
    "    Initiates or continues removal of a shard from the MongoDB cluster.\n",
    "    This function executes the `removeShard` command only once, allowing\n",
    "    external control over when to reissue it.\n",
    "\n",
    "    :param mongos_client: The MongoClient connected to mongos\n",
    "    :param shard_id: Numeric string like '3' (for shard3)\n",
    "    \"\"\"\n",
    "    global MONGO_SHARDS\n",
    "    shard_name = f\"shard{shard_id}\"\n",
    "\n",
    "    try:\n",
    "        res = mongos_client.admin.command(\"removeShard\", shard_name)\n",
    "        state = res[\"state\"]\n",
    "        print(f\"📦 removeShard called on: {shard_name} (state: {state})\")\n",
    "        pprint(res)\n",
    "        if (state == 'completed'):\n",
    "            MONGO_SHARDS -= 1\n",
    "    except Exception as e:\n",
    "        print(f\"❌ Failed to remove shard {shard_name}: {e}\")\n",
    "\n",
    "\n",
    "def add_shard(mongos_client: MongoClient, shard_id: int):\n",
    "    \"\"\"\n",
    "    Adds a shard to the MongoDB cluster. Constructs shard URI from the shard ID.\n",
    "    \n",
    "    :param mongos_client: The MongoClient connected to mongos\n",
    "    :param shard_id: Numeric string like '3' (for shard3)\n",
    "    \"\"\"\n",
    "    global MONGO_SHARDS\n",
    "    shard_name = f\"shard{shard_id}\"\n",
    "    host = f\"mongodb-shard{shard_id}-0.mongodb-shard{shard_id}.default.svc.cluster.local:27018\"\n",
    "    shard_uri = f\"{shard_name}/{host}\"\n",
    "\n",
    "    try:\n",
    "        result = mongos_client.admin.command(\"addShard\", shard_uri)\n",
    "        print(f\"✅ Shard added: {shard_uri}\")\n",
    "        pprint(result)\n",
    "        MONGO_SHARDS += 1\n",
    "    except Exception as e:\n",
    "        print(f\"❌ Failed to add shard {shard_uri}: {e}\")\n",
    "\n",
    "\n",
    "def reshard_collection(mongos_client: MongoClient, db_name=\"ycsb_sharded\", coll_name=\"usertable\", chunks=40):\n",
    "    \"\"\"\n",
    "    Initiates a reshardCollection operation on the given collection with:\n",
    "    - forceRedistribution: true\n",
    "    - numInitialChunks: 40\n",
    "    - shardKey: { country: \"hashed\" }\n",
    "\n",
    "    :param mongos_client: MongoClient connected to mongos\n",
    "    :param db_name: Name of the database (e.g., \"ycsb_sharded\")\n",
    "    :param coll_name: Name of the collection (e.g., \"usertable\")\n",
    "    \"\"\"\n",
    "    numInitialChunks = chunks\n",
    "    while (numInitialChunks > 2*MONGO_SHARDS):\n",
    "        try:\n",
    "            namespace = f\"{db_name}.{coll_name}\"\n",
    "            cmd = {\n",
    "                \"reshardCollection\": namespace,\n",
    "                \"key\": { \"country\": \"hashed\" },\n",
    "                \"numInitialChunks\": numInitialChunks,\n",
    "                \"forceRedistribution\": True\n",
    "            }\n",
    "            print(f\"Resharding initiated for {namespace} with {numInitialChunks} chunks...✅\")\n",
    "            result = mongos_client.admin.command(cmd)\n",
    "            from pprint import pprint\n",
    "            pprint(result)\n",
    "            return True\n",
    "\n",
    "        except Exception as e:\n",
    "            #print(f\"Failed to reshard {namespace}:❌  \\n{e}\")\n",
    "            numInitialChunks -= 1\n",
    "    \n",
    "    return False\n",
    "\n",
    "from bson.int64 import Int64\n",
    "\n",
    "def split_hashed_chunks(mongos_client: MongoClient, db_name=\"ycsb_sharded\", coll_name=\"usertable\", num_chunks=40):\n",
    "    \"\"\"\n",
    "    Splits a collection sharded on a hashed key into `num_chunks` chunks\n",
    "    using evenly distributed hashed key space split points.\n",
    "\n",
    "    :param mongos_client: MongoClient connected to mongos\n",
    "    :param db_name: Name of the database\n",
    "    :param coll_name: Name of the collection\n",
    "    :param num_chunks: Number of chunks to split into (default: 40)\n",
    "    \"\"\"\n",
    "    try:\n",
    "        print(f\"🔧 Splitting {db_name}.{coll_name} into {num_chunks} chunks on hashed 'country'...\")\n",
    "\n",
    "        ns = f\"{db_name}.{coll_name}\"\n",
    "        min_hash = -2**63\n",
    "        max_hash = 2**63\n",
    "\n",
    "        step = (max_hash - min_hash) // num_chunks\n",
    "        split_points = [Int64(min_hash + i * step) for i in range(1, num_chunks)]\n",
    "\n",
    "        for i, split_point in enumerate(split_points):\n",
    "            cmd = {\n",
    "                \"split\": ns,\n",
    "                \"middle\": { \"country\": split_point }\n",
    "            }\n",
    "            res = mongos_client.admin.command(cmd)\n",
    "            print(f\"✅ Split {i+1}/{num_chunks - 1} at hashed value {split_point}\")\n",
    "\n",
    "        print(f\"🎉 Done splitting into {num_chunks} chunks.\")\n",
    "\n",
    "    except Exception as e:\n",
    "        print(f\"❌ Failed during split: {e}\")\n"
   ]
  },
  {
   "cell_type": "code",
   "execution_count": 8,
   "id": "3a1e82d5",
   "metadata": {},
   "outputs": [],
   "source": [
    "def scale_k8s_shard_down(apps_v1, shard_id: int, namespace: str = \"default\"):\n",
    "    \"\"\"\n",
    "    Scales the StatefulSet for the given shard ID to 0 replicas.\n",
    "    \n",
    "    :param apps_v1: An initialized AppsV1Api client\n",
    "    :param shard_id: Integer ID of the shard (e.g., 3 for mongodb-shard3)\n",
    "    :param namespace: Kubernetes namespace (default: \"default\")\n",
    "    \"\"\"\n",
    "    global K8S_SHARDS\n",
    "    shard_name = f\"mongodb-shard{shard_id}\"\n",
    "    try:\n",
    "        apps_v1.patch_namespaced_stateful_set_scale(\n",
    "            name=shard_name,\n",
    "            namespace=namespace,\n",
    "            body={\"spec\": {\"replicas\": 0}}\n",
    "        )\n",
    "        print(f\"🔻 Scaled {shard_name} to 0 replicas.\")\n",
    "        K8S_SHARDS -= 1\n",
    "    except client.exceptions.ApiException as e:\n",
    "        print(f\"❌ Failed to scale down {shard_name}: {e}\")\n",
    "\n",
    "\n",
    "def scale_k8s_shard_up(apps_v1, shard_id: int, namespace: str = \"default\"):\n",
    "    \"\"\"\n",
    "    Scales the StatefulSet for the given shard ID to 1 replica.\n",
    "    \n",
    "    :param apps_v1: An initialized AppsV1Api client\n",
    "    :param shard_id: Integer ID of the shard (e.g., 3 for mongodb-shard3)\n",
    "    :param namespace: Kubernetes namespace (default: \"default\")\n",
    "    \"\"\"\n",
    "    global K8S_SHARDS\n",
    "    shard_name = f\"mongodb-shard{shard_id}\"\n",
    "    try:\n",
    "        apps_v1.patch_namespaced_stateful_set_scale(\n",
    "            name=shard_name,\n",
    "            namespace=namespace,\n",
    "            body={\"spec\": {\"replicas\": 1}}\n",
    "        )\n",
    "        print(f\"🔺 Scaled {shard_name} to 1 replica.\")\n",
    "        K8S_SHARDS += 1\n",
    "    except client.exceptions.ApiException as e:\n",
    "        print(f\"❌ Failed to scale up {shard_name}: {e}\")\n",
    "\n",
    "\n",
    "def print_statefulsets_info(apps_v1: client.AppsV1Api, namespace: str = \"default\"):\n",
    "    \"\"\"\n",
    "    Prints information about all StatefulSets in the specified namespace.\n",
    "\n",
    "    :param apps_v1: Initialized AppsV1Api client\n",
    "    :param namespace: Kubernetes namespace (default: \"default\")\n",
    "    \"\"\"\n",
    "    try:\n",
    "        statefulsets = apps_v1.list_namespaced_stateful_set(namespace=namespace)\n",
    "        if not statefulsets.items:\n",
    "            print(f\"ℹ️ No StatefulSets found in namespace '{namespace}'.\")\n",
    "            return\n",
    "\n",
    "        print(f\"📦 StatefulSets in namespace '{namespace}':\\n\")\n",
    "        for sts in statefulsets.items:\n",
    "            name = sts.metadata.name\n",
    "            replicas = sts.spec.replicas\n",
    "            ready_replicas = sts.status.ready_replicas or 0\n",
    "            selector = sts.spec.selector.match_labels\n",
    "            print(f\" - {name}\")\n",
    "            print(f\"    🔢 Replicas: {ready_replicas}/{replicas}\")\n",
    "            print(f\"    🏷️ Selector: {selector}\\n\")\n",
    "\n",
    "    except client.exceptions.ApiException as e:\n",
    "        print(f\"❌ Kubernetes API error: {e}\")\n",
    "    except Exception as e:\n",
    "        print(f\"❌ Failed to retrieve StatefulSets: {e}\")\n"
   ]
  },
  {
   "cell_type": "code",
   "execution_count": null,
   "id": "92e3381d",
   "metadata": {},
   "outputs": [
    {
     "name": "stdout",
     "output_type": "stream",
     "text": [
      "📦 StatefulSets in namespace 'default':\n",
      "\n",
      " - mongodb-configsvr\n",
      "    🔢 Replicas: 1/1\n",
      "    🏷️ Selector: {'app': 'mongodb-configsvr'}\n",
      "\n",
      " - mongodb-shard1\n",
      "    🔢 Replicas: 1/1\n",
      "    🏷️ Selector: {'app': 'mongodb-shard1'}\n",
      "\n",
      " - mongodb-shard2\n",
      "    🔢 Replicas: 1/1\n",
      "    🏷️ Selector: {'app': 'mongodb-shard2'}\n",
      "\n",
      " - mongodb-shard3\n",
      "    🔢 Replicas: 0/0\n",
      "    🏷️ Selector: {'app': 'mongodb-shard3'}\n",
      "\n",
      " - mongodb-shard4\n",
      "    🔢 Replicas: 0/0\n",
      "    🏷️ Selector: {'app': 'mongodb-shard4'}\n",
      "\n"
     ]
    }
   ],
   "source": [
    "print_statefulsets_info(apps_V1)"
   ]
  },
  {
   "cell_type": "code",
   "execution_count": null,
   "id": "30844f2d",
   "metadata": {
    "vscode": {
     "languageId": "markdown"
    }
   },
   "outputs": [],
   "source": [
    "**Always scale down MongoDB before Kubernetes and scale up Kubernetes before MongoDB**"
   ]
  },
  {
   "cell_type": "code",
   "execution_count": null,
   "id": "377af004",
   "metadata": {},
   "outputs": [],
   "source": [
    "scale_k8s_shard_down(apps_V1, 3)"
   ]
  },
  {
   "cell_type": "code",
   "execution_count": null,
   "id": "1a49014a",
   "metadata": {},
   "outputs": [],
   "source": [
    "scale_k8s_shard_up(apps_V1, 2)"
   ]
  },
  {
   "cell_type": "code",
   "execution_count": null,
   "id": "ddd95680",
   "metadata": {},
   "outputs": [],
   "source": [
    "add_shard(mongoClient, 3)"
   ]
  },
  {
   "cell_type": "code",
   "execution_count": null,
   "id": "66d64e5c",
   "metadata": {},
   "outputs": [],
   "source": [
    "remove_shard(mongoClient, 3)"
   ]
  },
  {
   "cell_type": "code",
   "execution_count": 20,
   "id": "e366b822",
   "metadata": {},
   "outputs": [
    {
     "name": "stdout",
     "output_type": "stream",
     "text": [
      "Resharding initiated for ycsb_sharded.usertable with 40 chunks...✅\n",
      "Failed to reshard ycsb_sharded.usertable:❌  \n",
      "The shard key provided does not have enough cardinality to make the required number of chunks of 40, it can only make 28 chunks, full error: {'ok': 0.0, 'errmsg': 'The shard key provided does not have enough cardinality to make the required number of chunks of 40, it can only make 28 chunks', 'code': 4952606, 'codeName': 'Location4952606', '$clusterTime': {'clusterTime': Timestamp(1747311177, 16), 'signature': {'hash': b'\\x00\\x00\\x00\\x00\\x00\\x00\\x00\\x00\\x00\\x00\\x00\\x00\\x00\\x00\\x00\\x00\\x00\\x00\\x00\\x00', 'keyId': 0}}, 'operationTime': Timestamp(1747311177, 16)}\n",
      "Resharding initiated for ycsb_sharded.usertable with 39 chunks...✅\n",
      "Failed to reshard ycsb_sharded.usertable:❌  \n",
      "The shard key provided does not have enough cardinality to make the required number of chunks of 39, it can only make 31 chunks, full error: {'ok': 0.0, 'errmsg': 'The shard key provided does not have enough cardinality to make the required number of chunks of 39, it can only make 31 chunks', 'code': 4952606, 'codeName': 'Location4952606', '$clusterTime': {'clusterTime': Timestamp(1747311177, 34), 'signature': {'hash': b'\\x00\\x00\\x00\\x00\\x00\\x00\\x00\\x00\\x00\\x00\\x00\\x00\\x00\\x00\\x00\\x00\\x00\\x00\\x00\\x00', 'keyId': 0}}, 'operationTime': Timestamp(1747311177, 34)}\n",
      "Resharding initiated for ycsb_sharded.usertable with 38 chunks...✅\n",
      "Failed to reshard ycsb_sharded.usertable:❌  \n",
      "The shard key provided does not have enough cardinality to make the required number of chunks of 38, it can only make 31 chunks, full error: {'ok': 0.0, 'errmsg': 'The shard key provided does not have enough cardinality to make the required number of chunks of 38, it can only make 31 chunks', 'code': 4952606, 'codeName': 'Location4952606', '$clusterTime': {'clusterTime': Timestamp(1747311178, 18), 'signature': {'hash': b'\\x00\\x00\\x00\\x00\\x00\\x00\\x00\\x00\\x00\\x00\\x00\\x00\\x00\\x00\\x00\\x00\\x00\\x00\\x00\\x00', 'keyId': 0}}, 'operationTime': Timestamp(1747311178, 18)}\n",
      "Resharding initiated for ycsb_sharded.usertable with 37 chunks...✅\n",
      "Failed to reshard ycsb_sharded.usertable:❌  \n",
      "The shard key provided does not have enough cardinality to make the required number of chunks of 37, it can only make 27 chunks, full error: {'ok': 0.0, 'errmsg': 'The shard key provided does not have enough cardinality to make the required number of chunks of 37, it can only make 27 chunks', 'code': 4952606, 'codeName': 'Location4952606', '$clusterTime': {'clusterTime': Timestamp(1747311178, 36), 'signature': {'hash': b'\\x00\\x00\\x00\\x00\\x00\\x00\\x00\\x00\\x00\\x00\\x00\\x00\\x00\\x00\\x00\\x00\\x00\\x00\\x00\\x00', 'keyId': 0}}, 'operationTime': Timestamp(1747311178, 36)}\n",
      "Resharding initiated for ycsb_sharded.usertable with 36 chunks...✅\n",
      "Failed to reshard ycsb_sharded.usertable:❌  \n",
      "The shard key provided does not have enough cardinality to make the required number of chunks of 36, it can only make 30 chunks, full error: {'ok': 0.0, 'errmsg': 'The shard key provided does not have enough cardinality to make the required number of chunks of 36, it can only make 30 chunks', 'code': 4952606, 'codeName': 'Location4952606', '$clusterTime': {'clusterTime': Timestamp(1747311178, 54), 'signature': {'hash': b'\\x00\\x00\\x00\\x00\\x00\\x00\\x00\\x00\\x00\\x00\\x00\\x00\\x00\\x00\\x00\\x00\\x00\\x00\\x00\\x00', 'keyId': 0}}, 'operationTime': Timestamp(1747311178, 54)}\n",
      "Resharding initiated for ycsb_sharded.usertable with 35 chunks...✅\n",
      "Failed to reshard ycsb_sharded.usertable:❌  \n",
      "The shard key provided does not have enough cardinality to make the required number of chunks of 35, it can only make 29 chunks, full error: {'ok': 0.0, 'errmsg': 'The shard key provided does not have enough cardinality to make the required number of chunks of 35, it can only make 29 chunks', 'code': 4952606, 'codeName': 'Location4952606', '$clusterTime': {'clusterTime': Timestamp(1747311178, 72), 'signature': {'hash': b'\\x00\\x00\\x00\\x00\\x00\\x00\\x00\\x00\\x00\\x00\\x00\\x00\\x00\\x00\\x00\\x00\\x00\\x00\\x00\\x00', 'keyId': 0}}, 'operationTime': Timestamp(1747311178, 72)}\n",
      "Resharding initiated for ycsb_sharded.usertable with 34 chunks...✅\n",
      "Failed to reshard ycsb_sharded.usertable:❌  \n",
      "The shard key provided does not have enough cardinality to make the required number of chunks of 34, it can only make 31 chunks, full error: {'ok': 0.0, 'errmsg': 'The shard key provided does not have enough cardinality to make the required number of chunks of 34, it can only make 31 chunks', 'code': 4952606, 'codeName': 'Location4952606', '$clusterTime': {'clusterTime': Timestamp(1747311178, 90), 'signature': {'hash': b'\\x00\\x00\\x00\\x00\\x00\\x00\\x00\\x00\\x00\\x00\\x00\\x00\\x00\\x00\\x00\\x00\\x00\\x00\\x00\\x00', 'keyId': 0}}, 'operationTime': Timestamp(1747311178, 90)}\n",
      "Resharding initiated for ycsb_sharded.usertable with 33 chunks...✅\n",
      "Failed to reshard ycsb_sharded.usertable:❌  \n",
      "The shard key provided does not have enough cardinality to make the required number of chunks of 33, it can only make 30 chunks, full error: {'ok': 0.0, 'errmsg': 'The shard key provided does not have enough cardinality to make the required number of chunks of 33, it can only make 30 chunks', 'code': 4952606, 'codeName': 'Location4952606', '$clusterTime': {'clusterTime': Timestamp(1747311178, 108), 'signature': {'hash': b'\\x00\\x00\\x00\\x00\\x00\\x00\\x00\\x00\\x00\\x00\\x00\\x00\\x00\\x00\\x00\\x00\\x00\\x00\\x00\\x00', 'keyId': 0}}, 'operationTime': Timestamp(1747311178, 108)}\n",
      "Resharding initiated for ycsb_sharded.usertable with 32 chunks...✅\n",
      "Failed to reshard ycsb_sharded.usertable:❌  \n",
      "The shard key provided does not have enough cardinality to make the required number of chunks of 32, it can only make 28 chunks, full error: {'ok': 0.0, 'errmsg': 'The shard key provided does not have enough cardinality to make the required number of chunks of 32, it can only make 28 chunks', 'code': 4952606, 'codeName': 'Location4952606', '$clusterTime': {'clusterTime': Timestamp(1747311178, 126), 'signature': {'hash': b'\\x00\\x00\\x00\\x00\\x00\\x00\\x00\\x00\\x00\\x00\\x00\\x00\\x00\\x00\\x00\\x00\\x00\\x00\\x00\\x00', 'keyId': 0}}, 'operationTime': Timestamp(1747311178, 126)}\n",
      "Resharding initiated for ycsb_sharded.usertable with 31 chunks...✅\n",
      "Failed to reshard ycsb_sharded.usertable:❌  \n",
      "The shard key provided does not have enough cardinality to make the required number of chunks of 31, it can only make 29 chunks, full error: {'ok': 0.0, 'errmsg': 'The shard key provided does not have enough cardinality to make the required number of chunks of 31, it can only make 29 chunks', 'code': 4952606, 'codeName': 'Location4952606', '$clusterTime': {'clusterTime': Timestamp(1747311178, 144), 'signature': {'hash': b'\\x00\\x00\\x00\\x00\\x00\\x00\\x00\\x00\\x00\\x00\\x00\\x00\\x00\\x00\\x00\\x00\\x00\\x00\\x00\\x00', 'keyId': 0}}, 'operationTime': Timestamp(1747311178, 144)}\n",
      "Resharding initiated for ycsb_sharded.usertable with 30 chunks...✅\n",
      "Failed to reshard ycsb_sharded.usertable:❌  \n",
      "The shard key provided does not have enough cardinality to make the required number of chunks of 30, it can only make 25 chunks, full error: {'ok': 0.0, 'errmsg': 'The shard key provided does not have enough cardinality to make the required number of chunks of 30, it can only make 25 chunks', 'code': 4952606, 'codeName': 'Location4952606', '$clusterTime': {'clusterTime': Timestamp(1747311178, 162), 'signature': {'hash': b'\\x00\\x00\\x00\\x00\\x00\\x00\\x00\\x00\\x00\\x00\\x00\\x00\\x00\\x00\\x00\\x00\\x00\\x00\\x00\\x00', 'keyId': 0}}, 'operationTime': Timestamp(1747311178, 162)}\n",
      "Resharding initiated for ycsb_sharded.usertable with 29 chunks...✅\n",
      "Failed to reshard ycsb_sharded.usertable:❌  \n",
      "The shard key provided does not have enough cardinality to make the required number of chunks of 29, it can only make 26 chunks, full error: {'ok': 0.0, 'errmsg': 'The shard key provided does not have enough cardinality to make the required number of chunks of 29, it can only make 26 chunks', 'code': 4952606, 'codeName': 'Location4952606', '$clusterTime': {'clusterTime': Timestamp(1747311178, 180), 'signature': {'hash': b'\\x00\\x00\\x00\\x00\\x00\\x00\\x00\\x00\\x00\\x00\\x00\\x00\\x00\\x00\\x00\\x00\\x00\\x00\\x00\\x00', 'keyId': 0}}, 'operationTime': Timestamp(1747311178, 180)}\n",
      "Resharding initiated for ycsb_sharded.usertable with 28 chunks...✅\n",
      "{'$clusterTime': {'clusterTime': Timestamp(1747311510, 117),\n",
      "                  'signature': {'hash': b'\\x00\\x00\\x00\\x00\\x00\\x00\\x00\\x00'\n",
      "                                        b'\\x00\\x00\\x00\\x00\\x00\\x00\\x00\\x00'\n",
      "                                        b'\\x00\\x00\\x00\\x00',\n",
      "                                'keyId': 0}},\n",
      " 'ok': 1.0,\n",
      " 'operationTime': Timestamp(1747311510, 117)}\n"
     ]
    },
    {
     "data": {
      "text/plain": [
       "True"
      ]
     },
     "execution_count": 20,
     "metadata": {},
     "output_type": "execute_result"
    }
   ],
   "source": [
    "reshard_collection(mongoClient, chunks=40)"
   ]
  },
  {
   "cell_type": "code",
   "execution_count": 19,
   "id": "f1054e95",
   "metadata": {},
   "outputs": [
    {
     "name": "stdout",
     "output_type": "stream",
     "text": [
      "🔧 Splitting ycsb_sharded.usertable into 40 chunks on hashed 'country'...\n",
      "✅ Split 1/39 at hashed value -8762203435012037018\n",
      "✅ Split 2/39 at hashed value -8301034833169298228\n",
      "✅ Split 3/39 at hashed value -7839866231326559438\n",
      "✅ Split 4/39 at hashed value -7378697629483820648\n",
      "✅ Split 5/39 at hashed value -6917529027641081858\n",
      "✅ Split 6/39 at hashed value -6456360425798343068\n",
      "✅ Split 7/39 at hashed value -5995191823955604278\n",
      "✅ Split 8/39 at hashed value -5534023222112865488\n",
      "✅ Split 9/39 at hashed value -5072854620270126698\n",
      "✅ Split 10/39 at hashed value -4611686018427387908\n",
      "✅ Split 11/39 at hashed value -4150517416584649118\n",
      "✅ Split 12/39 at hashed value -3689348814741910328\n",
      "✅ Split 13/39 at hashed value -3228180212899171538\n",
      "✅ Split 14/39 at hashed value -2767011611056432748\n",
      "✅ Split 15/39 at hashed value -2305843009213693958\n",
      "✅ Split 16/39 at hashed value -1844674407370955168\n",
      "✅ Split 17/39 at hashed value -1383505805528216378\n",
      "✅ Split 18/39 at hashed value -922337203685477588\n",
      "✅ Split 19/39 at hashed value -461168601842738798\n",
      "✅ Split 20/39 at hashed value -8\n",
      "✅ Split 21/39 at hashed value 461168601842738782\n",
      "✅ Split 22/39 at hashed value 922337203685477572\n",
      "✅ Split 23/39 at hashed value 1383505805528216362\n",
      "✅ Split 24/39 at hashed value 1844674407370955152\n",
      "✅ Split 25/39 at hashed value 2305843009213693942\n",
      "✅ Split 26/39 at hashed value 2767011611056432732\n",
      "✅ Split 27/39 at hashed value 3228180212899171522\n",
      "✅ Split 28/39 at hashed value 3689348814741910312\n",
      "✅ Split 29/39 at hashed value 4150517416584649102\n",
      "✅ Split 30/39 at hashed value 4611686018427387892\n",
      "✅ Split 31/39 at hashed value 5072854620270126682\n",
      "✅ Split 32/39 at hashed value 5534023222112865472\n",
      "✅ Split 33/39 at hashed value 5995191823955604262\n",
      "✅ Split 34/39 at hashed value 6456360425798343052\n",
      "✅ Split 35/39 at hashed value 6917529027641081842\n",
      "✅ Split 36/39 at hashed value 7378697629483820632\n",
      "✅ Split 37/39 at hashed value 7839866231326559422\n",
      "✅ Split 38/39 at hashed value 8301034833169298212\n",
      "✅ Split 39/39 at hashed value 8762203435012037002\n",
      "🎉 Done splitting into 40 chunks.\n"
     ]
    }
   ],
   "source": [
    "split_hashed_chunks(mongoClient, num_chunks=40)"
   ]
  },
  {
   "cell_type": "code",
   "execution_count": 16,
   "id": "33c882c9",
   "metadata": {},
   "outputs": [],
   "source": [
    "def same_replicas_number():\n",
    "    global MONGO_SHARDS, K8S_SHARDS\n",
    "    if (MONGO_SHARDS == K8S_SHARDS):\n",
    "        print(f\"The number of replicas in Kubernetes and MongoDB is the same: {K8S_SHARDS}\")\n",
    "        return True\n",
    "    else:\n",
    "        print(\"The number of replicas is different:\")\n",
    "        print(f\"- {K8S_SHARDS} in Kubernetes\")\n",
    "        print(f\"- {MONGO_SHARDS} in MongoDB\")\n",
    "        return False"
   ]
  },
  {
   "cell_type": "code",
   "execution_count": 18,
   "id": "48b96a22",
   "metadata": {},
   "outputs": [
    {
     "name": "stdout",
     "output_type": "stream",
     "text": [
      "The number of replicas in Kubernetes and MongoDB is the same: 3\n"
     ]
    },
    {
     "data": {
      "text/plain": [
       "True"
      ]
     },
     "execution_count": 18,
     "metadata": {},
     "output_type": "execute_result"
    }
   ],
   "source": [
    "same_replicas_number()"
   ]
  },
  {
   "cell_type": "code",
   "execution_count": 13,
   "id": "afd9c9e3",
   "metadata": {},
   "outputs": [],
   "source": [
    "def scale_cluster_down(mongoClient, apps_V1):\n",
    "    if (same_replicas_number == False):\n",
    "        print(\"❌Can't scale down because replicas number is different!\")\n",
    "        same_replicas_number()\n",
    "        return False\n",
    "    else:\n",
    "        print(f\"Starting scaling down from {MONGO_SHARDS} to {MONGO_SHARDS - 1} replicas...\\n\")\n",
    "        remove_shard(mongoClient, MONGO_SHARDS)\n",
    "        print(\"Resharding the collection...\\n\")\n",
    "        reshard_collection(mongoClient)\n",
    "        remove_shard(mongoClient, MONGO_SHARDS)\n",
    "        scale_k8s_shard_down(apps_V1, K8S_SHARDS)\n",
    "        print(\"✅Scaled down succesfully!\")\n",
    "        same_replicas_number()\n",
    "        return True\n",
    "\n",
    "def scale_cluster_up(mongoClient, apps_V1):\n",
    "    if (same_replicas_number == False):\n",
    "        print(\"❌Can't scale up because replicas number is different!\")\n",
    "        same_replicas_number()\n",
    "        return False\n",
    "    else:\n",
    "        print(f\"Starting scaling up from {K8S_SHARDS} to {K8S_SHARDS + 1} replicas...\\n\")\n",
    "        scale_k8s_shard_up(apps_V1, K8S_SHARDS + 1)\n",
    "        add_shard(mongoClient, K8S_SHARDS)\n",
    "        print(\"Resharding the collection...\\n\")\n",
    "        reshard_collection(mongoClient)\n",
    "        print(\"✅Scaled up succesfully!\")\n",
    "        same_replicas_number()\n",
    "        return True\n",
    "        "
   ]
  },
  {
   "cell_type": "code",
   "execution_count": null,
   "id": "a4bd7261",
   "metadata": {},
   "outputs": [],
   "source": [
    "scale_cluster_down(mongoClient, apps_V1)"
   ]
  },
  {
   "cell_type": "code",
   "execution_count": 21,
   "id": "18b5117d",
   "metadata": {},
   "outputs": [
    {
     "name": "stdout",
     "output_type": "stream",
     "text": [
      "Starting scaling up from 3 to 4 replicas...\n",
      "\n",
      "🔺 Scaled mongodb-shard4 to 1 replica.\n",
      "✅ Shard added: shard4/mongodb-shard4-0.mongodb-shard4.default.svc.cluster.local:27018\n",
      "{'$clusterTime': {'clusterTime': Timestamp(1747312123, 20),\n",
      "                  'signature': {'hash': b'\\x00\\x00\\x00\\x00\\x00\\x00\\x00\\x00'\n",
      "                                        b'\\x00\\x00\\x00\\x00\\x00\\x00\\x00\\x00'\n",
      "                                        b'\\x00\\x00\\x00\\x00',\n",
      "                                'keyId': 0}},\n",
      " 'ok': 1.0,\n",
      " 'operationTime': Timestamp(1747312123, 20),\n",
      " 'shardAdded': 'shard4'}\n",
      "Resharding the collection...\n",
      "\n",
      "Resharding initiated for ycsb_sharded.usertable with 40 chunks...✅\n",
      "Failed to reshard ycsb_sharded.usertable:❌  \n",
      "The shard key provided does not have enough cardinality to make the required number of chunks of 40, it can only make 26 chunks, full error: {'ok': 0.0, 'errmsg': 'The shard key provided does not have enough cardinality to make the required number of chunks of 40, it can only make 26 chunks', 'code': 4952606, 'codeName': 'Location4952606', '$clusterTime': {'clusterTime': Timestamp(1747312123, 35), 'signature': {'hash': b'\\x00\\x00\\x00\\x00\\x00\\x00\\x00\\x00\\x00\\x00\\x00\\x00\\x00\\x00\\x00\\x00\\x00\\x00\\x00\\x00', 'keyId': 0}}, 'operationTime': Timestamp(1747312123, 35)}\n",
      "Resharding initiated for ycsb_sharded.usertable with 39 chunks...✅\n",
      "Failed to reshard ycsb_sharded.usertable:❌  \n",
      "The shard key provided does not have enough cardinality to make the required number of chunks of 39, it can only make 34 chunks, full error: {'ok': 0.0, 'errmsg': 'The shard key provided does not have enough cardinality to make the required number of chunks of 39, it can only make 34 chunks', 'code': 4952606, 'codeName': 'Location4952606', '$clusterTime': {'clusterTime': Timestamp(1747312123, 53), 'signature': {'hash': b'\\x00\\x00\\x00\\x00\\x00\\x00\\x00\\x00\\x00\\x00\\x00\\x00\\x00\\x00\\x00\\x00\\x00\\x00\\x00\\x00', 'keyId': 0}}, 'operationTime': Timestamp(1747312123, 53)}\n",
      "Resharding initiated for ycsb_sharded.usertable with 38 chunks...✅\n",
      "Failed to reshard ycsb_sharded.usertable:❌  \n",
      "The shard key provided does not have enough cardinality to make the required number of chunks of 38, it can only make 32 chunks, full error: {'ok': 0.0, 'errmsg': 'The shard key provided does not have enough cardinality to make the required number of chunks of 38, it can only make 32 chunks', 'code': 4952606, 'codeName': 'Location4952606', '$clusterTime': {'clusterTime': Timestamp(1747312123, 71), 'signature': {'hash': b'\\x00\\x00\\x00\\x00\\x00\\x00\\x00\\x00\\x00\\x00\\x00\\x00\\x00\\x00\\x00\\x00\\x00\\x00\\x00\\x00', 'keyId': 0}}, 'operationTime': Timestamp(1747312123, 71)}\n",
      "Resharding initiated for ycsb_sharded.usertable with 37 chunks...✅\n",
      "Failed to reshard ycsb_sharded.usertable:❌  \n",
      "The shard key provided does not have enough cardinality to make the required number of chunks of 37, it can only make 29 chunks, full error: {'ok': 0.0, 'errmsg': 'The shard key provided does not have enough cardinality to make the required number of chunks of 37, it can only make 29 chunks', 'code': 4952606, 'codeName': 'Location4952606', '$clusterTime': {'clusterTime': Timestamp(1747312123, 89), 'signature': {'hash': b'\\x00\\x00\\x00\\x00\\x00\\x00\\x00\\x00\\x00\\x00\\x00\\x00\\x00\\x00\\x00\\x00\\x00\\x00\\x00\\x00', 'keyId': 0}}, 'operationTime': Timestamp(1747312123, 89)}\n",
      "Resharding initiated for ycsb_sharded.usertable with 36 chunks...✅\n",
      "Failed to reshard ycsb_sharded.usertable:❌  \n",
      "The shard key provided does not have enough cardinality to make the required number of chunks of 36, it can only make 32 chunks, full error: {'ok': 0.0, 'errmsg': 'The shard key provided does not have enough cardinality to make the required number of chunks of 36, it can only make 32 chunks', 'code': 4952606, 'codeName': 'Location4952606', '$clusterTime': {'clusterTime': Timestamp(1747312124, 16), 'signature': {'hash': b'\\x00\\x00\\x00\\x00\\x00\\x00\\x00\\x00\\x00\\x00\\x00\\x00\\x00\\x00\\x00\\x00\\x00\\x00\\x00\\x00', 'keyId': 0}}, 'operationTime': Timestamp(1747312124, 16)}\n",
      "Resharding initiated for ycsb_sharded.usertable with 35 chunks...✅\n",
      "Failed to reshard ycsb_sharded.usertable:❌  \n",
      "The shard key provided does not have enough cardinality to make the required number of chunks of 35, it can only make 28 chunks, full error: {'ok': 0.0, 'errmsg': 'The shard key provided does not have enough cardinality to make the required number of chunks of 35, it can only make 28 chunks', 'code': 4952606, 'codeName': 'Location4952606', '$clusterTime': {'clusterTime': Timestamp(1747312124, 34), 'signature': {'hash': b'\\x00\\x00\\x00\\x00\\x00\\x00\\x00\\x00\\x00\\x00\\x00\\x00\\x00\\x00\\x00\\x00\\x00\\x00\\x00\\x00', 'keyId': 0}}, 'operationTime': Timestamp(1747312124, 34)}\n",
      "Resharding initiated for ycsb_sharded.usertable with 34 chunks...✅\n",
      "Failed to reshard ycsb_sharded.usertable:❌  \n",
      "The shard key provided does not have enough cardinality to make the required number of chunks of 34, it can only make 29 chunks, full error: {'ok': 0.0, 'errmsg': 'The shard key provided does not have enough cardinality to make the required number of chunks of 34, it can only make 29 chunks', 'code': 4952606, 'codeName': 'Location4952606', '$clusterTime': {'clusterTime': Timestamp(1747312124, 52), 'signature': {'hash': b'\\x00\\x00\\x00\\x00\\x00\\x00\\x00\\x00\\x00\\x00\\x00\\x00\\x00\\x00\\x00\\x00\\x00\\x00\\x00\\x00', 'keyId': 0}}, 'operationTime': Timestamp(1747312124, 52)}\n",
      "Resharding initiated for ycsb_sharded.usertable with 33 chunks...✅\n",
      "Failed to reshard ycsb_sharded.usertable:❌  \n",
      "The shard key provided does not have enough cardinality to make the required number of chunks of 33, it can only make 29 chunks, full error: {'ok': 0.0, 'errmsg': 'The shard key provided does not have enough cardinality to make the required number of chunks of 33, it can only make 29 chunks', 'code': 4952606, 'codeName': 'Location4952606', '$clusterTime': {'clusterTime': Timestamp(1747312124, 70), 'signature': {'hash': b'\\x00\\x00\\x00\\x00\\x00\\x00\\x00\\x00\\x00\\x00\\x00\\x00\\x00\\x00\\x00\\x00\\x00\\x00\\x00\\x00', 'keyId': 0}}, 'operationTime': Timestamp(1747312124, 70)}\n",
      "Resharding initiated for ycsb_sharded.usertable with 32 chunks...✅\n",
      "Failed to reshard ycsb_sharded.usertable:❌  \n",
      "The shard key provided does not have enough cardinality to make the required number of chunks of 32, it can only make 28 chunks, full error: {'ok': 0.0, 'errmsg': 'The shard key provided does not have enough cardinality to make the required number of chunks of 32, it can only make 28 chunks', 'code': 4952606, 'codeName': 'Location4952606', '$clusterTime': {'clusterTime': Timestamp(1747312124, 88), 'signature': {'hash': b'\\x00\\x00\\x00\\x00\\x00\\x00\\x00\\x00\\x00\\x00\\x00\\x00\\x00\\x00\\x00\\x00\\x00\\x00\\x00\\x00', 'keyId': 0}}, 'operationTime': Timestamp(1747312124, 88)}\n",
      "Resharding initiated for ycsb_sharded.usertable with 31 chunks...✅\n",
      "Failed to reshard ycsb_sharded.usertable:❌  \n",
      "The shard key provided does not have enough cardinality to make the required number of chunks of 31, it can only make 28 chunks, full error: {'ok': 0.0, 'errmsg': 'The shard key provided does not have enough cardinality to make the required number of chunks of 31, it can only make 28 chunks', 'code': 4952606, 'codeName': 'Location4952606', '$clusterTime': {'clusterTime': Timestamp(1747312124, 106), 'signature': {'hash': b'\\x00\\x00\\x00\\x00\\x00\\x00\\x00\\x00\\x00\\x00\\x00\\x00\\x00\\x00\\x00\\x00\\x00\\x00\\x00\\x00', 'keyId': 0}}, 'operationTime': Timestamp(1747312124, 106)}\n",
      "Resharding initiated for ycsb_sharded.usertable with 30 chunks...✅\n",
      "Failed to reshard ycsb_sharded.usertable:❌  \n",
      "The shard key provided does not have enough cardinality to make the required number of chunks of 30, it can only make 27 chunks, full error: {'ok': 0.0, 'errmsg': 'The shard key provided does not have enough cardinality to make the required number of chunks of 30, it can only make 27 chunks', 'code': 4952606, 'codeName': 'Location4952606', '$clusterTime': {'clusterTime': Timestamp(1747312124, 124), 'signature': {'hash': b'\\x00\\x00\\x00\\x00\\x00\\x00\\x00\\x00\\x00\\x00\\x00\\x00\\x00\\x00\\x00\\x00\\x00\\x00\\x00\\x00', 'keyId': 0}}, 'operationTime': Timestamp(1747312124, 124)}\n",
      "Resharding initiated for ycsb_sharded.usertable with 29 chunks...✅\n",
      "Failed to reshard ycsb_sharded.usertable:❌  \n",
      "The shard key provided does not have enough cardinality to make the required number of chunks of 29, it can only make 28 chunks, full error: {'ok': 0.0, 'errmsg': 'The shard key provided does not have enough cardinality to make the required number of chunks of 29, it can only make 28 chunks', 'code': 4952606, 'codeName': 'Location4952606', '$clusterTime': {'clusterTime': Timestamp(1747312124, 142), 'signature': {'hash': b'\\x00\\x00\\x00\\x00\\x00\\x00\\x00\\x00\\x00\\x00\\x00\\x00\\x00\\x00\\x00\\x00\\x00\\x00\\x00\\x00', 'keyId': 0}}, 'operationTime': Timestamp(1747312124, 142)}\n",
      "Resharding initiated for ycsb_sharded.usertable with 28 chunks...✅\n",
      "Failed to reshard ycsb_sharded.usertable:❌  \n",
      "The shard key provided does not have enough cardinality to make the required number of chunks of 28, it can only make 27 chunks, full error: {'ok': 0.0, 'errmsg': 'The shard key provided does not have enough cardinality to make the required number of chunks of 28, it can only make 27 chunks', 'code': 4952606, 'codeName': 'Location4952606', '$clusterTime': {'clusterTime': Timestamp(1747312124, 160), 'signature': {'hash': b'\\x00\\x00\\x00\\x00\\x00\\x00\\x00\\x00\\x00\\x00\\x00\\x00\\x00\\x00\\x00\\x00\\x00\\x00\\x00\\x00', 'keyId': 0}}, 'operationTime': Timestamp(1747312124, 160)}\n",
      "Resharding initiated for ycsb_sharded.usertable with 27 chunks...✅\n",
      "Failed to reshard ycsb_sharded.usertable:❌  \n",
      "The shard key provided does not have enough cardinality to make the required number of chunks of 27, it can only make 24 chunks, full error: {'ok': 0.0, 'errmsg': 'The shard key provided does not have enough cardinality to make the required number of chunks of 27, it can only make 24 chunks', 'code': 4952606, 'codeName': 'Location4952606', '$clusterTime': {'clusterTime': Timestamp(1747312124, 178), 'signature': {'hash': b'\\x00\\x00\\x00\\x00\\x00\\x00\\x00\\x00\\x00\\x00\\x00\\x00\\x00\\x00\\x00\\x00\\x00\\x00\\x00\\x00', 'keyId': 0}}, 'operationTime': Timestamp(1747312124, 178)}\n",
      "Resharding initiated for ycsb_sharded.usertable with 26 chunks...✅\n",
      "Failed to reshard ycsb_sharded.usertable:❌  \n",
      "The shard key provided does not have enough cardinality to make the required number of chunks of 26, it can only make 25 chunks, full error: {'ok': 0.0, 'errmsg': 'The shard key provided does not have enough cardinality to make the required number of chunks of 26, it can only make 25 chunks', 'code': 4952606, 'codeName': 'Location4952606', '$clusterTime': {'clusterTime': Timestamp(1747312124, 196), 'signature': {'hash': b'\\x00\\x00\\x00\\x00\\x00\\x00\\x00\\x00\\x00\\x00\\x00\\x00\\x00\\x00\\x00\\x00\\x00\\x00\\x00\\x00', 'keyId': 0}}, 'operationTime': Timestamp(1747312124, 196)}\n",
      "Resharding initiated for ycsb_sharded.usertable with 25 chunks...✅\n"
     ]
    },
    {
     "ename": "KeyboardInterrupt",
     "evalue": "",
     "output_type": "error",
     "traceback": [
      "\u001b[31m---------------------------------------------------------------------------\u001b[39m",
      "\u001b[31mKeyboardInterrupt\u001b[39m                         Traceback (most recent call last)",
      "\u001b[36mCell\u001b[39m\u001b[36m \u001b[39m\u001b[32mIn[21]\u001b[39m\u001b[32m, line 1\u001b[39m\n\u001b[32m----> \u001b[39m\u001b[32m1\u001b[39m \u001b[43mscale_cluster_up\u001b[49m\u001b[43m(\u001b[49m\u001b[43mmongoClient\u001b[49m\u001b[43m,\u001b[49m\u001b[43m \u001b[49m\u001b[43mapps_V1\u001b[49m\u001b[43m)\u001b[49m\n",
      "\u001b[36mCell\u001b[39m\u001b[36m \u001b[39m\u001b[32mIn[13]\u001b[39m\u001b[32m, line 27\u001b[39m, in \u001b[36mscale_cluster_up\u001b[39m\u001b[34m(mongoClient, apps_V1)\u001b[39m\n\u001b[32m     25\u001b[39m add_shard(mongoClient, K8S_SHARDS)\n\u001b[32m     26\u001b[39m \u001b[38;5;28mprint\u001b[39m(\u001b[33m\"\u001b[39m\u001b[33mResharding the collection...\u001b[39m\u001b[38;5;130;01m\\n\u001b[39;00m\u001b[33m\"\u001b[39m)\n\u001b[32m---> \u001b[39m\u001b[32m27\u001b[39m \u001b[43mreshard_collection\u001b[49m\u001b[43m(\u001b[49m\u001b[43mmongoClient\u001b[49m\u001b[43m)\u001b[49m\n\u001b[32m     28\u001b[39m \u001b[38;5;28mprint\u001b[39m(\u001b[33m\"\u001b[39m\u001b[33m✅Scaled up succesfully!\u001b[39m\u001b[33m\"\u001b[39m)\n\u001b[32m     29\u001b[39m same_replicas_number()\n",
      "\u001b[36mCell\u001b[39m\u001b[36m \u001b[39m\u001b[32mIn[7]\u001b[39m\u001b[32m, line 67\u001b[39m, in \u001b[36mreshard_collection\u001b[39m\u001b[34m(mongos_client, db_name, coll_name, chunks)\u001b[39m\n\u001b[32m     60\u001b[39m cmd = {\n\u001b[32m     61\u001b[39m     \u001b[33m\"\u001b[39m\u001b[33mreshardCollection\u001b[39m\u001b[33m\"\u001b[39m: namespace,\n\u001b[32m     62\u001b[39m     \u001b[33m\"\u001b[39m\u001b[33mkey\u001b[39m\u001b[33m\"\u001b[39m: { \u001b[33m\"\u001b[39m\u001b[33mcountry\u001b[39m\u001b[33m\"\u001b[39m: \u001b[33m\"\u001b[39m\u001b[33mhashed\u001b[39m\u001b[33m\"\u001b[39m },\n\u001b[32m     63\u001b[39m     \u001b[33m\"\u001b[39m\u001b[33mnumInitialChunks\u001b[39m\u001b[33m\"\u001b[39m: numInitialChunks,\n\u001b[32m     64\u001b[39m     \u001b[33m\"\u001b[39m\u001b[33mforceRedistribution\u001b[39m\u001b[33m\"\u001b[39m: \u001b[38;5;28;01mTrue\u001b[39;00m\n\u001b[32m     65\u001b[39m }\n\u001b[32m     66\u001b[39m \u001b[38;5;28mprint\u001b[39m(\u001b[33mf\u001b[39m\u001b[33m\"\u001b[39m\u001b[33mResharding initiated for \u001b[39m\u001b[38;5;132;01m{\u001b[39;00mnamespace\u001b[38;5;132;01m}\u001b[39;00m\u001b[33m with \u001b[39m\u001b[38;5;132;01m{\u001b[39;00mnumInitialChunks\u001b[38;5;132;01m}\u001b[39;00m\u001b[33m chunks...✅\u001b[39m\u001b[33m\"\u001b[39m)\n\u001b[32m---> \u001b[39m\u001b[32m67\u001b[39m result = \u001b[43mmongos_client\u001b[49m\u001b[43m.\u001b[49m\u001b[43madmin\u001b[49m\u001b[43m.\u001b[49m\u001b[43mcommand\u001b[49m\u001b[43m(\u001b[49m\u001b[43mcmd\u001b[49m\u001b[43m)\u001b[49m\n\u001b[32m     68\u001b[39m \u001b[38;5;28;01mfrom\u001b[39;00m\u001b[38;5;250m \u001b[39m\u001b[34;01mpprint\u001b[39;00m\u001b[38;5;250m \u001b[39m\u001b[38;5;28;01mimport\u001b[39;00m pprint\n\u001b[32m     69\u001b[39m pprint(result)\n",
      "\u001b[36mFile \u001b[39m\u001b[32m~/Desktop/stateful_mongoDB_autoscaler_with_RL/.venv/lib/python3.12/site-packages/pymongo/_csot.py:119\u001b[39m, in \u001b[36mapply.<locals>.csot_wrapper\u001b[39m\u001b[34m(self, *args, **kwargs)\u001b[39m\n\u001b[32m    117\u001b[39m         \u001b[38;5;28;01mwith\u001b[39;00m _TimeoutContext(timeout):\n\u001b[32m    118\u001b[39m             \u001b[38;5;28;01mreturn\u001b[39;00m func(\u001b[38;5;28mself\u001b[39m, *args, **kwargs)\n\u001b[32m--> \u001b[39m\u001b[32m119\u001b[39m \u001b[38;5;28;01mreturn\u001b[39;00m \u001b[43mfunc\u001b[49m\u001b[43m(\u001b[49m\u001b[38;5;28;43mself\u001b[39;49m\u001b[43m,\u001b[49m\u001b[43m \u001b[49m\u001b[43m*\u001b[49m\u001b[43margs\u001b[49m\u001b[43m,\u001b[49m\u001b[43m \u001b[49m\u001b[43m*\u001b[49m\u001b[43m*\u001b[49m\u001b[43mkwargs\u001b[49m\u001b[43m)\u001b[49m\n",
      "\u001b[36mFile \u001b[39m\u001b[32m~/Desktop/stateful_mongoDB_autoscaler_with_RL/.venv/lib/python3.12/site-packages/pymongo/synchronous/database.py:930\u001b[39m, in \u001b[36mDatabase.command\u001b[39m\u001b[34m(self, command, value, check, allowable_errors, read_preference, codec_options, session, comment, **kwargs)\u001b[39m\n\u001b[32m    925\u001b[39m     read_preference = (session \u001b[38;5;129;01mand\u001b[39;00m session._txn_read_preference()) \u001b[38;5;129;01mor\u001b[39;00m ReadPreference.PRIMARY\n\u001b[32m    926\u001b[39m \u001b[38;5;28;01mwith\u001b[39;00m \u001b[38;5;28mself\u001b[39m._client._conn_for_reads(read_preference, session, operation=command_name) \u001b[38;5;28;01mas\u001b[39;00m (\n\u001b[32m    927\u001b[39m     connection,\n\u001b[32m    928\u001b[39m     read_preference,\n\u001b[32m    929\u001b[39m ):\n\u001b[32m--> \u001b[39m\u001b[32m930\u001b[39m     \u001b[38;5;28;01mreturn\u001b[39;00m \u001b[38;5;28;43mself\u001b[39;49m\u001b[43m.\u001b[49m\u001b[43m_command\u001b[49m\u001b[43m(\u001b[49m\n\u001b[32m    931\u001b[39m \u001b[43m        \u001b[49m\u001b[43mconnection\u001b[49m\u001b[43m,\u001b[49m\n\u001b[32m    932\u001b[39m \u001b[43m        \u001b[49m\u001b[43mcommand\u001b[49m\u001b[43m,\u001b[49m\n\u001b[32m    933\u001b[39m \u001b[43m        \u001b[49m\u001b[43mvalue\u001b[49m\u001b[43m,\u001b[49m\n\u001b[32m    934\u001b[39m \u001b[43m        \u001b[49m\u001b[43mcheck\u001b[49m\u001b[43m,\u001b[49m\n\u001b[32m    935\u001b[39m \u001b[43m        \u001b[49m\u001b[43mallowable_errors\u001b[49m\u001b[43m,\u001b[49m\n\u001b[32m    936\u001b[39m \u001b[43m        \u001b[49m\u001b[43mread_preference\u001b[49m\u001b[43m,\u001b[49m\n\u001b[32m    937\u001b[39m \u001b[43m        \u001b[49m\u001b[43mopts\u001b[49m\u001b[43m,\u001b[49m\u001b[43m  \u001b[49m\u001b[38;5;66;43;03m# type: ignore[arg-type]\u001b[39;49;00m\n\u001b[32m    938\u001b[39m \u001b[43m        \u001b[49m\u001b[43msession\u001b[49m\u001b[43m=\u001b[49m\u001b[43msession\u001b[49m\u001b[43m,\u001b[49m\n\u001b[32m    939\u001b[39m \u001b[43m        \u001b[49m\u001b[43m*\u001b[49m\u001b[43m*\u001b[49m\u001b[43mkwargs\u001b[49m\u001b[43m,\u001b[49m\n\u001b[32m    940\u001b[39m \u001b[43m    \u001b[49m\u001b[43m)\u001b[49m\n",
      "\u001b[36mFile \u001b[39m\u001b[32m~/Desktop/stateful_mongoDB_autoscaler_with_RL/.venv/lib/python3.12/site-packages/pymongo/synchronous/database.py:770\u001b[39m, in \u001b[36mDatabase._command\u001b[39m\u001b[34m(self, conn, command, value, check, allowable_errors, read_preference, codec_options, write_concern, parse_write_concern_error, session, **kwargs)\u001b[39m\n\u001b[32m    768\u001b[39m command.update(kwargs)\n\u001b[32m    769\u001b[39m \u001b[38;5;28;01mwith\u001b[39;00m \u001b[38;5;28mself\u001b[39m._client._tmp_session(session) \u001b[38;5;28;01mas\u001b[39;00m s:\n\u001b[32m--> \u001b[39m\u001b[32m770\u001b[39m     \u001b[38;5;28;01mreturn\u001b[39;00m \u001b[43mconn\u001b[49m\u001b[43m.\u001b[49m\u001b[43mcommand\u001b[49m\u001b[43m(\u001b[49m\n\u001b[32m    771\u001b[39m \u001b[43m        \u001b[49m\u001b[38;5;28;43mself\u001b[39;49m\u001b[43m.\u001b[49m\u001b[43m_name\u001b[49m\u001b[43m,\u001b[49m\n\u001b[32m    772\u001b[39m \u001b[43m        \u001b[49m\u001b[43mcommand\u001b[49m\u001b[43m,\u001b[49m\n\u001b[32m    773\u001b[39m \u001b[43m        \u001b[49m\u001b[43mread_preference\u001b[49m\u001b[43m,\u001b[49m\n\u001b[32m    774\u001b[39m \u001b[43m        \u001b[49m\u001b[43mcodec_options\u001b[49m\u001b[43m,\u001b[49m\n\u001b[32m    775\u001b[39m \u001b[43m        \u001b[49m\u001b[43mcheck\u001b[49m\u001b[43m,\u001b[49m\n\u001b[32m    776\u001b[39m \u001b[43m        \u001b[49m\u001b[43mallowable_errors\u001b[49m\u001b[43m,\u001b[49m\n\u001b[32m    777\u001b[39m \u001b[43m        \u001b[49m\u001b[43mwrite_concern\u001b[49m\u001b[43m=\u001b[49m\u001b[43mwrite_concern\u001b[49m\u001b[43m,\u001b[49m\n\u001b[32m    778\u001b[39m \u001b[43m        \u001b[49m\u001b[43mparse_write_concern_error\u001b[49m\u001b[43m=\u001b[49m\u001b[43mparse_write_concern_error\u001b[49m\u001b[43m,\u001b[49m\n\u001b[32m    779\u001b[39m \u001b[43m        \u001b[49m\u001b[43msession\u001b[49m\u001b[43m=\u001b[49m\u001b[43ms\u001b[49m\u001b[43m,\u001b[49m\n\u001b[32m    780\u001b[39m \u001b[43m        \u001b[49m\u001b[43mclient\u001b[49m\u001b[43m=\u001b[49m\u001b[38;5;28;43mself\u001b[39;49m\u001b[43m.\u001b[49m\u001b[43m_client\u001b[49m\u001b[43m,\u001b[49m\n\u001b[32m    781\u001b[39m \u001b[43m    \u001b[49m\u001b[43m)\u001b[49m\n",
      "\u001b[36mFile \u001b[39m\u001b[32m~/Desktop/stateful_mongoDB_autoscaler_with_RL/.venv/lib/python3.12/site-packages/pymongo/synchronous/helpers.py:47\u001b[39m, in \u001b[36m_handle_reauth.<locals>.inner\u001b[39m\u001b[34m(*args, **kwargs)\u001b[39m\n\u001b[32m     44\u001b[39m \u001b[38;5;28;01mfrom\u001b[39;00m\u001b[38;5;250m \u001b[39m\u001b[34;01mpymongo\u001b[39;00m\u001b[34;01m.\u001b[39;00m\u001b[34;01msynchronous\u001b[39;00m\u001b[34;01m.\u001b[39;00m\u001b[34;01mpool\u001b[39;00m\u001b[38;5;250m \u001b[39m\u001b[38;5;28;01mimport\u001b[39;00m Connection\n\u001b[32m     46\u001b[39m \u001b[38;5;28;01mtry\u001b[39;00m:\n\u001b[32m---> \u001b[39m\u001b[32m47\u001b[39m     \u001b[38;5;28;01mreturn\u001b[39;00m \u001b[43mfunc\u001b[49m\u001b[43m(\u001b[49m\u001b[43m*\u001b[49m\u001b[43margs\u001b[49m\u001b[43m,\u001b[49m\u001b[43m \u001b[49m\u001b[43m*\u001b[49m\u001b[43m*\u001b[49m\u001b[43mkwargs\u001b[49m\u001b[43m)\u001b[49m\n\u001b[32m     48\u001b[39m \u001b[38;5;28;01mexcept\u001b[39;00m OperationFailure \u001b[38;5;28;01mas\u001b[39;00m exc:\n\u001b[32m     49\u001b[39m     \u001b[38;5;28;01mif\u001b[39;00m no_reauth:\n",
      "\u001b[36mFile \u001b[39m\u001b[32m~/Desktop/stateful_mongoDB_autoscaler_with_RL/.venv/lib/python3.12/site-packages/pymongo/synchronous/pool.py:442\u001b[39m, in \u001b[36mConnection.command\u001b[39m\u001b[34m(self, dbname, spec, read_preference, codec_options, check, allowable_errors, read_concern, write_concern, parse_write_concern_error, collation, session, client, retryable_write, publish_events, user_fields, exhaust_allowed)\u001b[39m\n\u001b[32m    440\u001b[39m \u001b[38;5;66;03m# Catch socket.error, KeyboardInterrupt, CancelledError, etc. and close ourselves.\u001b[39;00m\n\u001b[32m    441\u001b[39m \u001b[38;5;28;01mexcept\u001b[39;00m \u001b[38;5;167;01mBaseException\u001b[39;00m \u001b[38;5;28;01mas\u001b[39;00m error:\n\u001b[32m--> \u001b[39m\u001b[32m442\u001b[39m     \u001b[38;5;28;43mself\u001b[39;49m\u001b[43m.\u001b[49m\u001b[43m_raise_connection_failure\u001b[49m\u001b[43m(\u001b[49m\u001b[43merror\u001b[49m\u001b[43m)\u001b[49m\n",
      "\u001b[36mFile \u001b[39m\u001b[32m~/Desktop/stateful_mongoDB_autoscaler_with_RL/.venv/lib/python3.12/site-packages/pymongo/synchronous/pool.py:414\u001b[39m, in \u001b[36mConnection.command\u001b[39m\u001b[34m(self, dbname, spec, read_preference, codec_options, check, allowable_errors, read_concern, write_concern, parse_write_concern_error, collation, session, client, retryable_write, publish_events, user_fields, exhaust_allowed)\u001b[39m\n\u001b[32m    412\u001b[39m     \u001b[38;5;28mself\u001b[39m._raise_if_not_writable(unacknowledged)\n\u001b[32m    413\u001b[39m \u001b[38;5;28;01mtry\u001b[39;00m:\n\u001b[32m--> \u001b[39m\u001b[32m414\u001b[39m     \u001b[38;5;28;01mreturn\u001b[39;00m \u001b[43mcommand\u001b[49m\u001b[43m(\u001b[49m\n\u001b[32m    415\u001b[39m \u001b[43m        \u001b[49m\u001b[38;5;28;43mself\u001b[39;49m\u001b[43m,\u001b[49m\n\u001b[32m    416\u001b[39m \u001b[43m        \u001b[49m\u001b[43mdbname\u001b[49m\u001b[43m,\u001b[49m\n\u001b[32m    417\u001b[39m \u001b[43m        \u001b[49m\u001b[43mspec\u001b[49m\u001b[43m,\u001b[49m\n\u001b[32m    418\u001b[39m \u001b[43m        \u001b[49m\u001b[38;5;28;43mself\u001b[39;49m\u001b[43m.\u001b[49m\u001b[43mis_mongos\u001b[49m\u001b[43m,\u001b[49m\n\u001b[32m    419\u001b[39m \u001b[43m        \u001b[49m\u001b[43mread_preference\u001b[49m\u001b[43m,\u001b[49m\n\u001b[32m    420\u001b[39m \u001b[43m        \u001b[49m\u001b[43mcodec_options\u001b[49m\u001b[43m,\u001b[49m\n\u001b[32m    421\u001b[39m \u001b[43m        \u001b[49m\u001b[43msession\u001b[49m\u001b[43m,\u001b[49m\n\u001b[32m    422\u001b[39m \u001b[43m        \u001b[49m\u001b[43mclient\u001b[49m\u001b[43m,\u001b[49m\n\u001b[32m    423\u001b[39m \u001b[43m        \u001b[49m\u001b[43mcheck\u001b[49m\u001b[43m,\u001b[49m\n\u001b[32m    424\u001b[39m \u001b[43m        \u001b[49m\u001b[43mallowable_errors\u001b[49m\u001b[43m,\u001b[49m\n\u001b[32m    425\u001b[39m \u001b[43m        \u001b[49m\u001b[38;5;28;43mself\u001b[39;49m\u001b[43m.\u001b[49m\u001b[43maddress\u001b[49m\u001b[43m,\u001b[49m\n\u001b[32m    426\u001b[39m \u001b[43m        \u001b[49m\u001b[43mlisteners\u001b[49m\u001b[43m,\u001b[49m\n\u001b[32m    427\u001b[39m \u001b[43m        \u001b[49m\u001b[38;5;28;43mself\u001b[39;49m\u001b[43m.\u001b[49m\u001b[43mmax_bson_size\u001b[49m\u001b[43m,\u001b[49m\n\u001b[32m    428\u001b[39m \u001b[43m        \u001b[49m\u001b[43mread_concern\u001b[49m\u001b[43m,\u001b[49m\n\u001b[32m    429\u001b[39m \u001b[43m        \u001b[49m\u001b[43mparse_write_concern_error\u001b[49m\u001b[43m=\u001b[49m\u001b[43mparse_write_concern_error\u001b[49m\u001b[43m,\u001b[49m\n\u001b[32m    430\u001b[39m \u001b[43m        \u001b[49m\u001b[43mcollation\u001b[49m\u001b[43m=\u001b[49m\u001b[43mcollation\u001b[49m\u001b[43m,\u001b[49m\n\u001b[32m    431\u001b[39m \u001b[43m        \u001b[49m\u001b[43mcompression_ctx\u001b[49m\u001b[43m=\u001b[49m\u001b[38;5;28;43mself\u001b[39;49m\u001b[43m.\u001b[49m\u001b[43mcompression_context\u001b[49m\u001b[43m,\u001b[49m\n\u001b[32m    432\u001b[39m \u001b[43m        \u001b[49m\u001b[43muse_op_msg\u001b[49m\u001b[43m=\u001b[49m\u001b[38;5;28;43mself\u001b[39;49m\u001b[43m.\u001b[49m\u001b[43mop_msg_enabled\u001b[49m\u001b[43m,\u001b[49m\n\u001b[32m    433\u001b[39m \u001b[43m        \u001b[49m\u001b[43munacknowledged\u001b[49m\u001b[43m=\u001b[49m\u001b[43munacknowledged\u001b[49m\u001b[43m,\u001b[49m\n\u001b[32m    434\u001b[39m \u001b[43m        \u001b[49m\u001b[43muser_fields\u001b[49m\u001b[43m=\u001b[49m\u001b[43muser_fields\u001b[49m\u001b[43m,\u001b[49m\n\u001b[32m    435\u001b[39m \u001b[43m        \u001b[49m\u001b[43mexhaust_allowed\u001b[49m\u001b[43m=\u001b[49m\u001b[43mexhaust_allowed\u001b[49m\u001b[43m,\u001b[49m\n\u001b[32m    436\u001b[39m \u001b[43m        \u001b[49m\u001b[43mwrite_concern\u001b[49m\u001b[43m=\u001b[49m\u001b[43mwrite_concern\u001b[49m\u001b[43m,\u001b[49m\n\u001b[32m    437\u001b[39m \u001b[43m    \u001b[49m\u001b[43m)\u001b[49m\n\u001b[32m    438\u001b[39m \u001b[38;5;28;01mexcept\u001b[39;00m (OperationFailure, NotPrimaryError):\n\u001b[32m    439\u001b[39m     \u001b[38;5;28;01mraise\u001b[39;00m\n",
      "\u001b[36mFile \u001b[39m\u001b[32m~/Desktop/stateful_mongoDB_autoscaler_with_RL/.venv/lib/python3.12/site-packages/pymongo/synchronous/network.py:198\u001b[39m, in \u001b[36mcommand\u001b[39m\u001b[34m(conn, dbname, spec, is_mongos, read_preference, codec_options, session, client, check, allowable_errors, address, listeners, max_bson_size, read_concern, parse_write_concern_error, collation, compression_ctx, use_op_msg, unacknowledged, user_fields, exhaust_allowed, write_concern)\u001b[39m\n\u001b[32m    196\u001b[39m     response_doc: _DocumentOut = {\u001b[33m\"\u001b[39m\u001b[33mok\u001b[39m\u001b[33m\"\u001b[39m: \u001b[32m1\u001b[39m}\n\u001b[32m    197\u001b[39m \u001b[38;5;28;01melse\u001b[39;00m:\n\u001b[32m--> \u001b[39m\u001b[32m198\u001b[39m     reply = \u001b[43mreceive_message\u001b[49m\u001b[43m(\u001b[49m\u001b[43mconn\u001b[49m\u001b[43m,\u001b[49m\u001b[43m \u001b[49m\u001b[43mrequest_id\u001b[49m\u001b[43m)\u001b[49m\n\u001b[32m    199\u001b[39m     conn.more_to_come = reply.more_to_come\n\u001b[32m    200\u001b[39m     unpacked_docs = reply.unpack_response(\n\u001b[32m    201\u001b[39m         codec_options=codec_options, user_fields=user_fields\n\u001b[32m    202\u001b[39m     )\n",
      "\u001b[36mFile \u001b[39m\u001b[32m~/Desktop/stateful_mongoDB_autoscaler_with_RL/.venv/lib/python3.12/site-packages/pymongo/network_layer.py:756\u001b[39m, in \u001b[36mreceive_message\u001b[39m\u001b[34m(conn, request_id, max_message_size)\u001b[39m\n\u001b[32m    754\u001b[39m         deadline = \u001b[38;5;28;01mNone\u001b[39;00m\n\u001b[32m    755\u001b[39m \u001b[38;5;66;03m# Ignore the response's request id.\u001b[39;00m\n\u001b[32m--> \u001b[39m\u001b[32m756\u001b[39m length, _, response_to, op_code = _UNPACK_HEADER(\u001b[43mreceive_data\u001b[49m\u001b[43m(\u001b[49m\u001b[43mconn\u001b[49m\u001b[43m,\u001b[49m\u001b[43m \u001b[49m\u001b[32;43m16\u001b[39;49m\u001b[43m,\u001b[49m\u001b[43m \u001b[49m\u001b[43mdeadline\u001b[49m\u001b[43m)\u001b[49m)\n\u001b[32m    757\u001b[39m \u001b[38;5;66;03m# No request_id for exhaust cursor \"getMore\".\u001b[39;00m\n\u001b[32m    758\u001b[39m \u001b[38;5;28;01mif\u001b[39;00m request_id \u001b[38;5;129;01mis\u001b[39;00m \u001b[38;5;129;01mnot\u001b[39;00m \u001b[38;5;28;01mNone\u001b[39;00m:\n",
      "\u001b[36mFile \u001b[39m\u001b[32m~/Desktop/stateful_mongoDB_autoscaler_with_RL/.venv/lib/python3.12/site-packages/pymongo/network_layer.py:351\u001b[39m, in \u001b[36mreceive_data\u001b[39m\u001b[34m(conn, length, deadline)\u001b[39m\n\u001b[32m    348\u001b[39m             short_timeout = _POLL_TIMEOUT\n\u001b[32m    349\u001b[39m         conn.set_conn_timeout(short_timeout)\n\u001b[32m--> \u001b[39m\u001b[32m351\u001b[39m     chunk_length = \u001b[43mconn\u001b[49m\u001b[43m.\u001b[49m\u001b[43mconn\u001b[49m\u001b[43m.\u001b[49m\u001b[43mrecv_into\u001b[49m\u001b[43m(\u001b[49m\u001b[43mmv\u001b[49m\u001b[43m[\u001b[49m\u001b[43mbytes_read\u001b[49m\u001b[43m:\u001b[49m\u001b[43m]\u001b[49m\u001b[43m)\u001b[49m\n\u001b[32m    352\u001b[39m \u001b[38;5;28;01mexcept\u001b[39;00m BLOCKING_IO_ERRORS:\n\u001b[32m    353\u001b[39m     \u001b[38;5;28;01mif\u001b[39;00m conn.cancel_context.cancelled:\n",
      "\u001b[36mFile \u001b[39m\u001b[32m~/Desktop/stateful_mongoDB_autoscaler_with_RL/.venv/lib/python3.12/site-packages/pymongo/network_layer.py:466\u001b[39m, in \u001b[36mNetworkingInterface.recv_into\u001b[39m\u001b[34m(self, buffer)\u001b[39m\n\u001b[32m    465\u001b[39m \u001b[38;5;28;01mdef\u001b[39;00m\u001b[38;5;250m \u001b[39m\u001b[34mrecv_into\u001b[39m(\u001b[38;5;28mself\u001b[39m, buffer: \u001b[38;5;28mbytes\u001b[39m) -> \u001b[38;5;28mint\u001b[39m:\n\u001b[32m--> \u001b[39m\u001b[32m466\u001b[39m     \u001b[38;5;28;01mreturn\u001b[39;00m \u001b[38;5;28;43mself\u001b[39;49m\u001b[43m.\u001b[49m\u001b[43mconn\u001b[49m\u001b[43m.\u001b[49m\u001b[43mrecv_into\u001b[49m\u001b[43m(\u001b[49m\u001b[43mbuffer\u001b[49m\u001b[43m)\u001b[49m\n",
      "\u001b[31mKeyboardInterrupt\u001b[39m: "
     ]
    }
   ],
   "source": [
    "scale_cluster_up(mongoClient, apps_V1)"
   ]
  }
 ],
 "metadata": {
  "kernelspec": {
   "display_name": ".venv",
   "language": "python",
   "name": "python3"
  },
  "language_info": {
   "codemirror_mode": {
    "name": "ipython",
    "version": 3
   },
   "file_extension": ".py",
   "mimetype": "text/x-python",
   "name": "python",
   "nbconvert_exporter": "python",
   "pygments_lexer": "ipython3",
   "version": "3.12.3"
  }
 },
 "nbformat": 4,
 "nbformat_minor": 5
}
